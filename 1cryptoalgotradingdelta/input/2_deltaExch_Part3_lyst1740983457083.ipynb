{
 "cells": [
  {
   "cell_type": "markdown",
   "metadata": {},
   "source": [
    "# Order Management"
   ]
  },
  {
   "cell_type": "markdown",
   "metadata": {},
   "source": [
    "## Login"
   ]
  },
  {
   "cell_type": "code",
   "execution_count": null,
   "metadata": {},
   "outputs": [],
   "source": [
    "# your api key and secret kay\n",
    "apikey = 'pasteYourAPIkeyHere'\n",
    "apiSecret = 'pasteYourSceretkeyHere'\n",
    "\n"
   ]
  },
  {
   "cell_type": "code",
   "execution_count": 5,
   "metadata": {},
   "outputs": [
    {
     "data": {
      "text/plain": [
       "<delta_rest_client.delta_rest_client.DeltaRestClient at 0xffff850ce8e0>"
      ]
     },
     "execution_count": 5,
     "metadata": {},
     "output_type": "execute_result"
    }
   ],
   "source": [
    "from delta_rest_client import DeltaRestClient ,OrderType\n",
    "import pandas as pd\n",
    "from datetime import datetime , timedelta\n",
    "\n",
    "delta_client = DeltaRestClient(\n",
    "  base_url='https://api.india.delta.exchange',\n",
    "  api_key=apikey,\n",
    "  api_secret=apiSecret\n",
    ")\n",
    "delta_client"
   ]
  },
  {
   "cell_type": "code",
   "execution_count": 6,
   "metadata": {},
   "outputs": [
    {
     "name": "stdout",
     "output_type": "stream",
     "text": [
      "Name: delta-rest-client\n",
      "Version: 1.0.12\n",
      "Summary: Rest Client for Delta Exchange\n",
      "Home-page: https://github.com/delta-exchange/python-rest-client\n",
      "Author: Arbaaz\n",
      "Author-email: me@arbaaz.io\n",
      "License: UNKNOWN\n",
      "Location: /home/ubuntu/.local/lib/python3.8/site-packages\n",
      "Requires: \n",
      "Required-by: \n",
      "Note: you may need to restart the kernel to use updated packages.\n"
     ]
    }
   ],
   "source": [
    "pip show delta_rest_client"
   ]
  },
  {
   "cell_type": "markdown",
   "metadata": {},
   "source": [
    "## Order Book"
   ]
  },
  {
   "cell_type": "code",
   "execution_count": 9,
   "metadata": {},
   "outputs": [
    {
     "data": {
      "text/plain": [
       "[{'bracket_take_profit_limit_price': None,\n",
       "  'bracket_stop_loss_price': None,\n",
       "  'created_at': '2025-03-02T07:56:56.126598Z',\n",
       "  'trail_amount': None,\n",
       "  'cancellation_reason': None,\n",
       "  'stop_trigger_method': 'mark_price',\n",
       "  'side': 'buy',\n",
       "  'state': 'pending',\n",
       "  'product': {'contract_type': 'put_options',\n",
       "   'contract_unit_currency': 'BTC',\n",
       "   'contract_value': '0.001',\n",
       "   'id': 64073,\n",
       "   'notional_type': 'vanilla',\n",
       "   'quoting_asset': {'minimum_precision': 2, 'precision': 8, 'symbol': 'USD'},\n",
       "   'settling_asset': {'minimum_precision': 2, 'precision': 8, 'symbol': 'USD'},\n",
       "   'spot_index': {'symbol': '.DEXBTUSD'},\n",
       "   'symbol': 'P-BTC-85200-020325',\n",
       "   'tick_size': '0.1',\n",
       "   'underlying_asset': {'minimum_precision': 4,\n",
       "    'precision': 8,\n",
       "    'symbol': 'BTC'}},\n",
       "  'id': 316535430,\n",
       "  'bracket_stop_loss_limit_price': None,\n",
       "  'stop_price': '20',\n",
       "  'order_type': 'limit_order',\n",
       "  'commission': '0',\n",
       "  'bracket_order': None,\n",
       "  'paid_commission': '0',\n",
       "  'unfilled_size': 1,\n",
       "  'updated_at': '2025-03-02T07:56:56.126598Z',\n",
       "  'close_on_trigger': 'false',\n",
       "  'stop_order_type': 'stop_loss_order',\n",
       "  'time_in_force': 'gtc',\n",
       "  'bracket_take_profit_price': None,\n",
       "  'user_id': 56057088,\n",
       "  'reduce_only': False,\n",
       "  'quote_size': None,\n",
       "  'size': 1,\n",
       "  'mmp': 'disabled',\n",
       "  'product_id': 64073,\n",
       "  'average_fill_price': None,\n",
       "  'product_symbol': 'P-BTC-85200-020325',\n",
       "  'limit_price': '21',\n",
       "  'client_order_id': None,\n",
       "  'bracket_trail_amount': None,\n",
       "  'meta_data': {'order_triggered_from_strategy_builder': False,\n",
       "   'source': 'web'}},\n",
       " {'bracket_take_profit_limit_price': None,\n",
       "  'bracket_stop_loss_price': None,\n",
       "  'created_at': '2025-03-02T07:55:38.035505Z',\n",
       "  'trail_amount': None,\n",
       "  'cancellation_reason': None,\n",
       "  'stop_trigger_method': None,\n",
       "  'side': 'buy',\n",
       "  'state': 'open',\n",
       "  'product': {'contract_type': 'call_options',\n",
       "   'contract_unit_currency': 'BTC',\n",
       "   'contract_value': '0.001',\n",
       "   'id': 64095,\n",
       "   'notional_type': 'vanilla',\n",
       "   'quoting_asset': {'minimum_precision': 2, 'precision': 8, 'symbol': 'USD'},\n",
       "   'settling_asset': {'minimum_precision': 2, 'precision': 8, 'symbol': 'USD'},\n",
       "   'spot_index': {'symbol': '.DEXBTUSD'},\n",
       "   'symbol': 'C-BTC-88800-020325',\n",
       "   'tick_size': '0.1',\n",
       "   'underlying_asset': {'minimum_precision': 4,\n",
       "    'precision': 8,\n",
       "    'symbol': 'BTC'}},\n",
       "  'id': 316534472,\n",
       "  'bracket_stop_loss_limit_price': None,\n",
       "  'stop_price': None,\n",
       "  'order_type': 'limit_order',\n",
       "  'commission': '0.0000236',\n",
       "  'bracket_order': None,\n",
       "  'paid_commission': '0',\n",
       "  'unfilled_size': 1,\n",
       "  'updated_at': '2025-03-02T07:55:38.035505Z',\n",
       "  'close_on_trigger': 'false',\n",
       "  'stop_order_type': None,\n",
       "  'time_in_force': 'gtc',\n",
       "  'bracket_take_profit_price': None,\n",
       "  'user_id': 56057088,\n",
       "  'reduce_only': False,\n",
       "  'quote_size': None,\n",
       "  'size': 1,\n",
       "  'mmp': 'disabled',\n",
       "  'product_id': 64095,\n",
       "  'average_fill_price': None,\n",
       "  'product_symbol': 'C-BTC-88800-020325',\n",
       "  'limit_price': '0.1',\n",
       "  'client_order_id': None,\n",
       "  'bracket_trail_amount': None,\n",
       "  'meta_data': {'ip': '103.171.168.32', 'otc': False, 'source': 'web'}}]"
      ]
     },
     "execution_count": 9,
     "metadata": {},
     "output_type": "execute_result"
    }
   ],
   "source": [
    "# Get live orders\n",
    "orderBook = delta_client.get_live_orders()\n",
    "orderBook\n"
   ]
  },
  {
   "cell_type": "code",
   "execution_count": 10,
   "metadata": {},
   "outputs": [
    {
     "data": {
      "text/plain": [
       "{'result': {'product': {'contract_type': 'put_options',\n",
       "   'contract_unit_currency': 'BTC',\n",
       "   'contract_value': '0.001',\n",
       "   'id': 64073,\n",
       "   'notional_type': 'vanilla',\n",
       "   'quoting_asset': {'minimum_precision': 2, 'precision': 8, 'symbol': 'USD'},\n",
       "   'settling_asset': {'minimum_precision': 2, 'precision': 8, 'symbol': 'USD'},\n",
       "   'spot_index': {'symbol': '.DEXBTUSD'},\n",
       "   'symbol': 'P-BTC-85200-020325',\n",
       "   'tick_size': '0.1',\n",
       "   'underlying_asset': {'minimum_precision': 4,\n",
       "    'precision': 8,\n",
       "    'symbol': 'BTC'}},\n",
       "  'mmp': 'disabled',\n",
       "  'user_id': 56057088,\n",
       "  'limit_price': '21',\n",
       "  'trail_amount': None,\n",
       "  'order_type': 'limit_order',\n",
       "  'time_in_force': 'gtc',\n",
       "  'state': 'pending',\n",
       "  'product_symbol': 'P-BTC-85200-020325',\n",
       "  'id': 316535430,\n",
       "  'client_order_id': None,\n",
       "  'stop_order_type': 'stop_loss_order',\n",
       "  'stop_trigger_method': 'mark_price',\n",
       "  'side': 'buy',\n",
       "  'cancellation_reason': None,\n",
       "  'bracket_trail_amount': None,\n",
       "  'bracket_stop_loss_limit_price': None,\n",
       "  'bracket_take_profit_limit_price': None,\n",
       "  'close_on_trigger': 'false',\n",
       "  'product_id': 64073,\n",
       "  'unfilled_size': 1,\n",
       "  'bracket_order': None,\n",
       "  'commission': '0',\n",
       "  'bracket_take_profit_price': None,\n",
       "  'paid_commission': '0',\n",
       "  'average_fill_price': None,\n",
       "  'quote_size': None,\n",
       "  'updated_at': '2025-03-02T07:56:56.126598Z',\n",
       "  'size': 1,\n",
       "  'meta_data': {'order_triggered_from_strategy_builder': False,\n",
       "   'source': 'web'},\n",
       "  'stop_price': '20',\n",
       "  'created_at': '2025-03-02T07:56:56.126598Z',\n",
       "  'bracket_stop_loss_price': None,\n",
       "  'reduce_only': False},\n",
       " 'success': True}"
      ]
     },
     "execution_count": 10,
     "metadata": {},
     "output_type": "execute_result"
    }
   ],
   "source": [
    "# get orderby id\n",
    "order_id = 316535430\n",
    "response = delta_client.request(\"GET\", f\"/v2/orders/{order_id}\",auth=True)\n",
    "response.json()"
   ]
  },
  {
   "cell_type": "code",
   "execution_count": 15,
   "metadata": {},
   "outputs": [
    {
     "data": {
      "text/plain": [
       "{'meta': {'after': None, 'before': None, 'limit': 10, 'total_count': 1},\n",
       " 'result': [{'bracket_take_profit_limit_price': None,\n",
       "   'bracket_stop_loss_price': None,\n",
       "   'created_at': '2025-03-02T07:56:56.126598Z',\n",
       "   'trail_amount': None,\n",
       "   'cancellation_reason': None,\n",
       "   'stop_trigger_method': 'mark_price',\n",
       "   'side': 'buy',\n",
       "   'state': 'pending',\n",
       "   'product': {'contract_type': 'put_options',\n",
       "    'contract_unit_currency': 'BTC',\n",
       "    'contract_value': '0.001',\n",
       "    'id': 64073,\n",
       "    'notional_type': 'vanilla',\n",
       "    'quoting_asset': {'minimum_precision': 2, 'precision': 8, 'symbol': 'USD'},\n",
       "    'settling_asset': {'minimum_precision': 2,\n",
       "     'precision': 8,\n",
       "     'symbol': 'USD'},\n",
       "    'spot_index': {'symbol': '.DEXBTUSD'},\n",
       "    'symbol': 'P-BTC-85200-020325',\n",
       "    'tick_size': '0.1',\n",
       "    'underlying_asset': {'minimum_precision': 4,\n",
       "     'precision': 8,\n",
       "     'symbol': 'BTC'}},\n",
       "   'id': 316535430,\n",
       "   'bracket_stop_loss_limit_price': None,\n",
       "   'stop_price': '20',\n",
       "   'order_type': 'limit_order',\n",
       "   'commission': '0',\n",
       "   'bracket_order': None,\n",
       "   'paid_commission': '0',\n",
       "   'unfilled_size': 1,\n",
       "   'updated_at': '2025-03-02T07:56:56.126598Z',\n",
       "   'close_on_trigger': 'false',\n",
       "   'stop_order_type': 'stop_loss_order',\n",
       "   'time_in_force': 'gtc',\n",
       "   'bracket_take_profit_price': None,\n",
       "   'user_id': 56057088,\n",
       "   'reduce_only': False,\n",
       "   'quote_size': None,\n",
       "   'size': 1,\n",
       "   'mmp': 'disabled',\n",
       "   'product_id': 64073,\n",
       "   'average_fill_price': None,\n",
       "   'product_symbol': 'P-BTC-85200-020325',\n",
       "   'limit_price': '21',\n",
       "   'client_order_id': None,\n",
       "   'bracket_trail_amount': None,\n",
       "   'meta_data': {'order_triggered_from_strategy_builder': False,\n",
       "    'source': 'web'}}],\n",
       " 'success': True}"
      ]
     },
     "execution_count": 15,
     "metadata": {},
     "output_type": "execute_result"
    }
   ],
   "source": [
    "# Get Order by query\n",
    "query = {\n",
    "            'contract_types': 'put_options',\n",
    "            #'states': 'open',\n",
    "            \n",
    "        }\n",
    "response = delta_client.request(\"GET\", \"/v2/orders\", query = query,auth=True)\n",
    "response.json()"
   ]
  },
  {
   "cell_type": "markdown",
   "metadata": {
    "vscode": {
     "languageId": "plaintext"
    }
   },
   "source": [
    "## Place Order"
   ]
  },
  {
   "cell_type": "code",
   "execution_count": 16,
   "metadata": {},
   "outputs": [
    {
     "data": {
      "text/plain": [
       "{'tick_size': '0.1',\n",
       " 'ui_config': {'default_trading_view_candle': '15',\n",
       "  'leverage_slider_values': [1, 2, 5, 10, 25, 50, 100],\n",
       "  'price_clubbing_values': [0.1, 0.5, 1, 2.5, 5, 10],\n",
       "  'show_bracket_orders': False,\n",
       "  'sort_priority': 1,\n",
       "  'tags': []},\n",
       " 'max_leverage_notional': '200000',\n",
       " 'trading_status': 'operational',\n",
       " 'impact_size': 200,\n",
       " 'short_description': 'BTC  Call',\n",
       " 'initial_margin_scaling_factor': '0.000002',\n",
       " 'contract_unit_currency': 'BTC',\n",
       " 'quoting_asset': {'base_withdrawal_fee': '0.000000000000000000',\n",
       "  'id': 14,\n",
       "  'interest_credit': False,\n",
       "  'interest_slabs': None,\n",
       "  'kyc_deposit_limit': '0.000000000000000000',\n",
       "  'kyc_withdrawal_limit': '0.000000000000000000',\n",
       "  'min_withdrawal_amount': '0.000000000000000000',\n",
       "  'minimum_precision': 2,\n",
       "  'name': 'US Dollar',\n",
       "  'networks': [],\n",
       "  'precision': 8,\n",
       "  'sort_priority': 3,\n",
       "  'symbol': 'USD',\n",
       "  'variable_withdrawal_fee': '0.000000000000000000'},\n",
       " 'state': 'live',\n",
       " 'basis_factor_max_limit': '10.95',\n",
       " 'contract_type': 'call_options',\n",
       " 'id': 64081,\n",
       " 'product_specs': {'backup_vol_expiry_time': 31536000,\n",
       "  'max_deviation_from_external_vol': 0.75,\n",
       "  'max_lower_deviation_from_external_vol': 0.75,\n",
       "  'max_upper_deviation_from_external_vol': 0.5,\n",
       "  'max_volatility': 3,\n",
       "  'min_volatility': 0.1,\n",
       "  'only_reduce_only_orders_allowed': False,\n",
       "  'premium_commission_rate': 0.1,\n",
       "  'vol_calculation_method': 'orderbook',\n",
       "  'vol_expiry_time': 31536000},\n",
       " 'settlement_time': '2025-03-02T12:00:00Z',\n",
       " 'auction_start_time': '2025-02-27T12:05:08Z',\n",
       " 'maker_commission_rate': '0.0003',\n",
       " 'symbol': 'C-BTC-88400-020325',\n",
       " 'strike_price': '88400',\n",
       " 'underlying_asset': {'base_withdrawal_fee': '0.000000000000000000',\n",
       "  'id': 13,\n",
       "  'interest_credit': False,\n",
       "  'interest_slabs': None,\n",
       "  'kyc_deposit_limit': '0.000000000000000000',\n",
       "  'kyc_withdrawal_limit': '0.000000000000000000',\n",
       "  'min_withdrawal_amount': '0.000000000000000000',\n",
       "  'minimum_precision': 4,\n",
       "  'name': 'Bitcoin',\n",
       "  'networks': [],\n",
       "  'precision': 8,\n",
       "  'sort_priority': 1,\n",
       "  'symbol': 'BTC',\n",
       "  'variable_withdrawal_fee': '0.000000000000000000'},\n",
       " 'barrier_price': None,\n",
       " 'auction_finish_time': None,\n",
       " 'settlement_price': None,\n",
       " 'insurance_fund_margin_contribution': '2',\n",
       " 'settling_asset': {'base_withdrawal_fee': '0.000000000000000000',\n",
       "  'id': 14,\n",
       "  'interest_credit': False,\n",
       "  'interest_slabs': None,\n",
       "  'kyc_deposit_limit': '0.000000000000000000',\n",
       "  'kyc_withdrawal_limit': '0.000000000000000000',\n",
       "  'min_withdrawal_amount': '0.000000000000000000',\n",
       "  'minimum_precision': 2,\n",
       "  'name': 'US Dollar',\n",
       "  'networks': [],\n",
       "  'precision': 8,\n",
       "  'sort_priority': 3,\n",
       "  'symbol': 'USD',\n",
       "  'variable_withdrawal_fee': '0.000000000000000000'},\n",
       " 'maintenance_margin_scaling_factor': '0.000001',\n",
       " 'initial_margin': '1',\n",
       " 'launch_time': '2025-02-27T12:05:08Z',\n",
       " 'contract_value': '0.001',\n",
       " 'disruption_reason': None,\n",
       " 'spot_index': {'config': {'price_alert_enabled': True,\n",
       "   'quoting_asset': 'USD',\n",
       "   'service_id': 1,\n",
       "   'underlying_asset': 'BTC'},\n",
       "  'constituent_exchanges': [],\n",
       "  'constituent_indices': {'expression': '${e1} * ${e2}',\n",
       "   'indices': {'e1': '.DEXBTUSDT', 'e2': '.DEUSDTUSD'}},\n",
       "  'description': 'Bitcoin spot price index quoted in US Dollar',\n",
       "  'health_interval': 300,\n",
       "  'id': 14,\n",
       "  'impact_size': '1.000000000000000000',\n",
       "  'index_type': 'spot_pair',\n",
       "  'is_composite': True,\n",
       "  'price_method': 'orderbook',\n",
       "  'quoting_asset_id': 14,\n",
       "  'symbol': '.DEXBTUSD',\n",
       "  'tick_size': '0.500000000000000000',\n",
       "  'underlying_asset_id': 13},\n",
       " 'is_quanto': False,\n",
       " 'price_band': '2',\n",
       " 'position_size_limit': 255633,\n",
       " 'default_leverage': '100.000000000000000000',\n",
       " 'notional_type': 'vanilla',\n",
       " 'maintenance_margin': '0.5',\n",
       " 'funding_method': 'mark_price',\n",
       " 'description': 'BTC call option expiring on 2-3-2025',\n",
       " 'taker_commission_rate': '0.0003',\n",
       " 'annualized_funding': '10.95',\n",
       " 'liquidation_penalty_factor': '0.5'}"
      ]
     },
     "execution_count": 16,
     "metadata": {},
     "output_type": "execute_result"
    }
   ],
   "source": [
    "productInfo = delta_client.get_product('C-BTC-88400-020325')\n",
    "productInfo"
   ]
  },
  {
   "cell_type": "code",
   "execution_count": 17,
   "metadata": {},
   "outputs": [
    {
     "data": {
      "text/plain": [
       "{'product_id': 64081,\n",
       " 'limit_price': '0.1',\n",
       " 'stop_trigger_method': None,\n",
       " 'cancellation_reason': None,\n",
       " 'bracket_stop_loss_price': None,\n",
       " 'bracket_take_profit_price': None,\n",
       " 'updated_at': '2025-03-02T08:06:59.050504Z',\n",
       " 'side': 'buy',\n",
       " 'state': 'open',\n",
       " 'id': 316545795,\n",
       " 'average_fill_price': None,\n",
       " 'reduce_only': False,\n",
       " 'paid_commission': '0',\n",
       " 'close_on_trigger': 'false',\n",
       " 'stop_price': None,\n",
       " 'order_type': 'limit_order',\n",
       " 'trail_amount': None,\n",
       " 'created_at': '2025-03-02T08:06:59.050504Z',\n",
       " 'time_in_force': 'gtc',\n",
       " 'client_order_id': 'DFT',\n",
       " 'user_id': 56057088,\n",
       " 'bracket_order': None,\n",
       " 'bracket_take_profit_limit_price': None,\n",
       " 'bracket_stop_loss_limit_price': None,\n",
       " 'commission': '0.0000236',\n",
       " 'quote_size': None,\n",
       " 'size': 1,\n",
       " 'bracket_trail_amount': None,\n",
       " 'meta_data': {'ip': '140.238.249.30', 'otc': False, 'source': 'api'},\n",
       " 'product_symbol': 'C-BTC-88400-020325',\n",
       " 'stop_order_type': None,\n",
       " 'mmp': 'disabled',\n",
       " 'unfilled_size': 1}"
      ]
     },
     "execution_count": 17,
     "metadata": {},
     "output_type": "execute_result"
    }
   ],
   "source": [
    "from delta_rest_client import OrderType\n",
    "\n",
    "orderRes = delta_client.place_order( product_id= productInfo['id'], size= 1, side = 'buy', limit_price=0.1, order_type=OrderType.LIMIT,client_order_id=\"DFT\")\n",
    "orderRes"
   ]
  },
  {
   "cell_type": "code",
   "execution_count": 18,
   "metadata": {},
   "outputs": [
    {
     "data": {
      "text/plain": [
       "316545795"
      ]
     },
     "execution_count": 18,
     "metadata": {},
     "output_type": "execute_result"
    }
   ],
   "source": [
    "orderid = orderRes['id']\n",
    "orderid"
   ]
  },
  {
   "cell_type": "markdown",
   "metadata": {},
   "source": [
    "## Modify Order"
   ]
  },
  {
   "cell_type": "code",
   "execution_count": null,
   "metadata": {},
   "outputs": [],
   "source": [
    "orderdf = pd.DataFrame(orderBook)\n",
    "orderdf"
   ]
  },
  {
   "cell_type": "code",
   "execution_count": 19,
   "metadata": {},
   "outputs": [
    {
     "data": {
      "text/plain": [
       "[{'unfilled_size': 1,\n",
       "  'client_order_id': 'DFT',\n",
       "  'bracket_order': None,\n",
       "  'user_id': 56057088,\n",
       "  'quote_size': None,\n",
       "  'meta_data': {'ip': '140.238.249.30', 'otc': False, 'source': 'api'},\n",
       "  'mmp': 'disabled',\n",
       "  'state': 'open',\n",
       "  'side': 'buy',\n",
       "  'id': 316545795,\n",
       "  'bracket_stop_loss_price': None,\n",
       "  'limit_price': '0.1',\n",
       "  'product': {'contract_type': 'call_options',\n",
       "   'contract_unit_currency': 'BTC',\n",
       "   'contract_value': '0.001',\n",
       "   'id': 64081,\n",
       "   'notional_type': 'vanilla',\n",
       "   'quoting_asset': {'minimum_precision': 2, 'precision': 8, 'symbol': 'USD'},\n",
       "   'settling_asset': {'minimum_precision': 2, 'precision': 8, 'symbol': 'USD'},\n",
       "   'spot_index': {'symbol': '.DEXBTUSD'},\n",
       "   'symbol': 'C-BTC-88400-020325',\n",
       "   'tick_size': '0.1',\n",
       "   'underlying_asset': {'minimum_precision': 4,\n",
       "    'precision': 8,\n",
       "    'symbol': 'BTC'}},\n",
       "  'trail_amount': None,\n",
       "  'created_at': '2025-03-02T08:06:59.050504Z',\n",
       "  'paid_commission': '0',\n",
       "  'stop_order_type': None,\n",
       "  'bracket_take_profit_price': None,\n",
       "  'average_fill_price': None,\n",
       "  'time_in_force': 'gtc',\n",
       "  'cancellation_reason': None,\n",
       "  'size': 1,\n",
       "  'bracket_take_profit_limit_price': None,\n",
       "  'reduce_only': False,\n",
       "  'stop_trigger_method': None,\n",
       "  'updated_at': '2025-03-02T08:06:59.050504Z',\n",
       "  'product_symbol': 'C-BTC-88400-020325',\n",
       "  'product_id': 64081,\n",
       "  'stop_price': None,\n",
       "  'order_type': 'limit_order',\n",
       "  'commission': '0.0000236',\n",
       "  'bracket_stop_loss_limit_price': None,\n",
       "  'bracket_trail_amount': None,\n",
       "  'close_on_trigger': 'false'},\n",
       " {'unfilled_size': 1,\n",
       "  'client_order_id': None,\n",
       "  'bracket_order': None,\n",
       "  'user_id': 56057088,\n",
       "  'quote_size': None,\n",
       "  'meta_data': {'ip': '103.171.168.32', 'otc': False, 'source': 'web'},\n",
       "  'mmp': 'disabled',\n",
       "  'state': 'open',\n",
       "  'side': 'buy',\n",
       "  'id': 316534472,\n",
       "  'bracket_stop_loss_price': None,\n",
       "  'limit_price': '0.1',\n",
       "  'product': {'contract_type': 'call_options',\n",
       "   'contract_unit_currency': 'BTC',\n",
       "   'contract_value': '0.001',\n",
       "   'id': 64095,\n",
       "   'notional_type': 'vanilla',\n",
       "   'quoting_asset': {'minimum_precision': 2, 'precision': 8, 'symbol': 'USD'},\n",
       "   'settling_asset': {'minimum_precision': 2, 'precision': 8, 'symbol': 'USD'},\n",
       "   'spot_index': {'symbol': '.DEXBTUSD'},\n",
       "   'symbol': 'C-BTC-88800-020325',\n",
       "   'tick_size': '0.1',\n",
       "   'underlying_asset': {'minimum_precision': 4,\n",
       "    'precision': 8,\n",
       "    'symbol': 'BTC'}},\n",
       "  'trail_amount': None,\n",
       "  'created_at': '2025-03-02T07:55:38.035505Z',\n",
       "  'paid_commission': '0',\n",
       "  'stop_order_type': None,\n",
       "  'bracket_take_profit_price': None,\n",
       "  'average_fill_price': None,\n",
       "  'time_in_force': 'gtc',\n",
       "  'cancellation_reason': None,\n",
       "  'size': 1,\n",
       "  'bracket_take_profit_limit_price': None,\n",
       "  'reduce_only': False,\n",
       "  'stop_trigger_method': None,\n",
       "  'updated_at': '2025-03-02T07:55:38.035505Z',\n",
       "  'product_symbol': 'C-BTC-88800-020325',\n",
       "  'product_id': 64095,\n",
       "  'stop_price': None,\n",
       "  'order_type': 'limit_order',\n",
       "  'commission': '0.0000236',\n",
       "  'bracket_stop_loss_limit_price': None,\n",
       "  'bracket_trail_amount': None,\n",
       "  'close_on_trigger': 'false'}]"
      ]
     },
     "execution_count": 19,
     "metadata": {},
     "output_type": "execute_result"
    }
   ],
   "source": [
    "orderBook = delta_client.get_live_orders()\n",
    "orderBook"
   ]
  },
  {
   "cell_type": "code",
   "execution_count": 20,
   "metadata": {},
   "outputs": [
    {
     "data": {
      "text/html": [
       "<div>\n",
       "<style scoped>\n",
       "    .dataframe tbody tr th:only-of-type {\n",
       "        vertical-align: middle;\n",
       "    }\n",
       "\n",
       "    .dataframe tbody tr th {\n",
       "        vertical-align: top;\n",
       "    }\n",
       "\n",
       "    .dataframe thead th {\n",
       "        text-align: right;\n",
       "    }\n",
       "</style>\n",
       "<table border=\"1\" class=\"dataframe\">\n",
       "  <thead>\n",
       "    <tr style=\"text-align: right;\">\n",
       "      <th></th>\n",
       "      <th>unfilled_size</th>\n",
       "      <th>client_order_id</th>\n",
       "      <th>bracket_order</th>\n",
       "      <th>user_id</th>\n",
       "      <th>quote_size</th>\n",
       "      <th>meta_data</th>\n",
       "      <th>mmp</th>\n",
       "      <th>state</th>\n",
       "      <th>side</th>\n",
       "      <th>id</th>\n",
       "      <th>...</th>\n",
       "      <th>stop_trigger_method</th>\n",
       "      <th>updated_at</th>\n",
       "      <th>product_symbol</th>\n",
       "      <th>product_id</th>\n",
       "      <th>stop_price</th>\n",
       "      <th>order_type</th>\n",
       "      <th>commission</th>\n",
       "      <th>bracket_stop_loss_limit_price</th>\n",
       "      <th>bracket_trail_amount</th>\n",
       "      <th>close_on_trigger</th>\n",
       "    </tr>\n",
       "  </thead>\n",
       "  <tbody>\n",
       "    <tr>\n",
       "      <th>0</th>\n",
       "      <td>1</td>\n",
       "      <td>DFT</td>\n",
       "      <td>None</td>\n",
       "      <td>56057088</td>\n",
       "      <td>None</td>\n",
       "      <td>{'ip': '140.238.249.30', 'otc': False, 'source...</td>\n",
       "      <td>disabled</td>\n",
       "      <td>open</td>\n",
       "      <td>buy</td>\n",
       "      <td>316545795</td>\n",
       "      <td>...</td>\n",
       "      <td>None</td>\n",
       "      <td>2025-03-02T08:06:59.050504Z</td>\n",
       "      <td>C-BTC-88400-020325</td>\n",
       "      <td>64081</td>\n",
       "      <td>None</td>\n",
       "      <td>limit_order</td>\n",
       "      <td>0.0000236</td>\n",
       "      <td>None</td>\n",
       "      <td>None</td>\n",
       "      <td>false</td>\n",
       "    </tr>\n",
       "    <tr>\n",
       "      <th>1</th>\n",
       "      <td>1</td>\n",
       "      <td>None</td>\n",
       "      <td>None</td>\n",
       "      <td>56057088</td>\n",
       "      <td>None</td>\n",
       "      <td>{'ip': '103.171.168.32', 'otc': False, 'source...</td>\n",
       "      <td>disabled</td>\n",
       "      <td>open</td>\n",
       "      <td>buy</td>\n",
       "      <td>316534472</td>\n",
       "      <td>...</td>\n",
       "      <td>None</td>\n",
       "      <td>2025-03-02T07:55:38.035505Z</td>\n",
       "      <td>C-BTC-88800-020325</td>\n",
       "      <td>64095</td>\n",
       "      <td>None</td>\n",
       "      <td>limit_order</td>\n",
       "      <td>0.0000236</td>\n",
       "      <td>None</td>\n",
       "      <td>None</td>\n",
       "      <td>false</td>\n",
       "    </tr>\n",
       "  </tbody>\n",
       "</table>\n",
       "<p>2 rows × 34 columns</p>\n",
       "</div>"
      ],
      "text/plain": [
       "   unfilled_size client_order_id bracket_order   user_id quote_size   \n",
       "0              1             DFT          None  56057088       None  \\\n",
       "1              1            None          None  56057088       None   \n",
       "\n",
       "                                           meta_data       mmp state side   \n",
       "0  {'ip': '140.238.249.30', 'otc': False, 'source...  disabled  open  buy  \\\n",
       "1  {'ip': '103.171.168.32', 'otc': False, 'source...  disabled  open  buy   \n",
       "\n",
       "          id  ... stop_trigger_method                   updated_at   \n",
       "0  316545795  ...                None  2025-03-02T08:06:59.050504Z  \\\n",
       "1  316534472  ...                None  2025-03-02T07:55:38.035505Z   \n",
       "\n",
       "       product_symbol product_id stop_price   order_type commission   \n",
       "0  C-BTC-88400-020325      64081       None  limit_order  0.0000236  \\\n",
       "1  C-BTC-88800-020325      64095       None  limit_order  0.0000236   \n",
       "\n",
       "  bracket_stop_loss_limit_price bracket_trail_amount close_on_trigger  \n",
       "0                          None                 None            false  \n",
       "1                          None                 None            false  \n",
       "\n",
       "[2 rows x 34 columns]"
      ]
     },
     "execution_count": 20,
     "metadata": {},
     "output_type": "execute_result"
    }
   ],
   "source": [
    "orderdf = pd.DataFrame(orderBook)\n",
    "orderdf"
   ]
  },
  {
   "cell_type": "code",
   "execution_count": 21,
   "metadata": {},
   "outputs": [
    {
     "data": {
      "text/plain": [
       "{'unfilled_size': 1,\n",
       " 'client_order_id': 'DFT',\n",
       " 'bracket_order': None,\n",
       " 'user_id': 56057088,\n",
       " 'quote_size': None,\n",
       " 'meta_data': {'ip': '140.238.249.30', 'otc': False, 'source': 'api'},\n",
       " 'mmp': 'disabled',\n",
       " 'state': 'open',\n",
       " 'side': 'buy',\n",
       " 'id': 316545795,\n",
       " 'bracket_stop_loss_price': None,\n",
       " 'limit_price': '0.1',\n",
       " 'product': {'contract_type': 'call_options',\n",
       "  'contract_unit_currency': 'BTC',\n",
       "  'contract_value': '0.001',\n",
       "  'id': 64081,\n",
       "  'notional_type': 'vanilla',\n",
       "  'quoting_asset': {'minimum_precision': 2, 'precision': 8, 'symbol': 'USD'},\n",
       "  'settling_asset': {'minimum_precision': 2, 'precision': 8, 'symbol': 'USD'},\n",
       "  'spot_index': {'symbol': '.DEXBTUSD'},\n",
       "  'symbol': 'C-BTC-88400-020325',\n",
       "  'tick_size': '0.1',\n",
       "  'underlying_asset': {'minimum_precision': 4,\n",
       "   'precision': 8,\n",
       "   'symbol': 'BTC'}},\n",
       " 'trail_amount': None,\n",
       " 'created_at': '2025-03-02T08:06:59.050504Z',\n",
       " 'paid_commission': '0',\n",
       " 'stop_order_type': None,\n",
       " 'bracket_take_profit_price': None,\n",
       " 'average_fill_price': None,\n",
       " 'time_in_force': 'gtc',\n",
       " 'cancellation_reason': None,\n",
       " 'size': 1,\n",
       " 'bracket_take_profit_limit_price': None,\n",
       " 'reduce_only': False,\n",
       " 'stop_trigger_method': None,\n",
       " 'updated_at': '2025-03-02T08:06:59.050504Z',\n",
       " 'product_symbol': 'C-BTC-88400-020325',\n",
       " 'product_id': 64081,\n",
       " 'stop_price': None,\n",
       " 'order_type': 'limit_order',\n",
       " 'commission': '0.0000236',\n",
       " 'bracket_stop_loss_limit_price': None,\n",
       " 'bracket_trail_amount': None,\n",
       " 'close_on_trigger': 'false'}"
      ]
     },
     "execution_count": 21,
     "metadata": {},
     "output_type": "execute_result"
    }
   ],
   "source": [
    "getOrderParam = orderdf[orderdf.id ==orderid].iloc[0].to_dict()\n",
    "getOrderParam"
   ]
  },
  {
   "cell_type": "code",
   "execution_count": 26,
   "metadata": {},
   "outputs": [
    {
     "data": {
      "text/plain": [
       "{'unfilled_size': 1,\n",
       " 'client_order_id': 'DFT',\n",
       " 'bracket_order': None,\n",
       " 'user_id': 56057088,\n",
       " 'quote_size': None,\n",
       " 'meta_data': {'ip': '140.238.249.30', 'otc': False, 'source': 'api'},\n",
       " 'mmp': 'disabled',\n",
       " 'state': 'open',\n",
       " 'side': 'buy',\n",
       " 'id': 316545795,\n",
       " 'bracket_stop_loss_price': None,\n",
       " 'limit_price': '0.1',\n",
       " 'product': {'contract_type': 'call_options',\n",
       "  'contract_unit_currency': 'BTC',\n",
       "  'contract_value': '0.001',\n",
       "  'id': 64081,\n",
       "  'notional_type': 'vanilla',\n",
       "  'quoting_asset': {'minimum_precision': 2, 'precision': 8, 'symbol': 'USD'},\n",
       "  'settling_asset': {'minimum_precision': 2, 'precision': 8, 'symbol': 'USD'},\n",
       "  'spot_index': {'symbol': '.DEXBTUSD'},\n",
       "  'symbol': 'C-BTC-88400-020325',\n",
       "  'tick_size': '0.1',\n",
       "  'underlying_asset': {'minimum_precision': 4,\n",
       "   'precision': 8,\n",
       "   'symbol': 'BTC'}},\n",
       " 'trail_amount': None,\n",
       " 'created_at': '2025-03-02T08:06:59.050504Z',\n",
       " 'paid_commission': '0',\n",
       " 'stop_order_type': None,\n",
       " 'bracket_take_profit_price': None,\n",
       " 'average_fill_price': None,\n",
       " 'time_in_force': 'gtc',\n",
       " 'cancellation_reason': None,\n",
       " 'size': 1,\n",
       " 'bracket_take_profit_limit_price': None,\n",
       " 'reduce_only': False,\n",
       " 'stop_trigger_method': None,\n",
       " 'updated_at': '2025-03-02T08:06:59.050504Z',\n",
       " 'product_symbol': 'C-BTC-88400-020325',\n",
       " 'product_id': 64081,\n",
       " 'stop_price': None,\n",
       " 'order_type': 'limit_order',\n",
       " 'commission': '0.0000236',\n",
       " 'bracket_stop_loss_limit_price': None,\n",
       " 'bracket_trail_amount': None,\n",
       " 'close_on_trigger': 'false'}"
      ]
     },
     "execution_count": 26,
     "metadata": {},
     "output_type": "execute_result"
    }
   ],
   "source": [
    "getOrderParam"
   ]
  },
  {
   "cell_type": "code",
   "execution_count": 24,
   "metadata": {},
   "outputs": [
    {
     "data": {
      "text/plain": [
       "<Response [200]>"
      ]
     },
     "execution_count": 24,
     "metadata": {},
     "output_type": "execute_result"
    }
   ],
   "source": [
    "# Modify order\n",
    "order = {\n",
    "            'id': getOrderParam['id'],\n",
    "            'product_id': getOrderParam['product_id'],\n",
    "            'size': 2,\n",
    "            #'limit_price': str(0.2)\n",
    "        }\n",
    "response = delta_client.request(\"PUT\", \"/v2/orders\", order,auth=True)\n",
    "response"
   ]
  },
  {
   "cell_type": "code",
   "execution_count": 25,
   "metadata": {},
   "outputs": [
    {
     "data": {
      "text/plain": [
       "{'result': {'product_id': 64081,\n",
       "  'limit_price': '0.2',\n",
       "  'stop_trigger_method': None,\n",
       "  'cancellation_reason': None,\n",
       "  'bracket_stop_loss_price': None,\n",
       "  'bracket_take_profit_price': None,\n",
       "  'updated_at': '2025-03-02T08:12:17.187902Z',\n",
       "  'side': 'buy',\n",
       "  'state': 'open',\n",
       "  'id': 316545795,\n",
       "  'average_fill_price': None,\n",
       "  'reduce_only': False,\n",
       "  'paid_commission': '0',\n",
       "  'close_on_trigger': 'false',\n",
       "  'stop_price': None,\n",
       "  'order_type': 'limit_order',\n",
       "  'trail_amount': None,\n",
       "  'created_at': '2025-03-02T08:06:59.050504Z',\n",
       "  'time_in_force': 'gtc',\n",
       "  'client_order_id': 'DFT',\n",
       "  'user_id': 56057088,\n",
       "  'bracket_order': None,\n",
       "  'bracket_take_profit_limit_price': None,\n",
       "  'bracket_stop_loss_limit_price': None,\n",
       "  'commission': '0.0000944',\n",
       "  'quote_size': None,\n",
       "  'size': 2,\n",
       "  'bracket_trail_amount': None,\n",
       "  'meta_data': {'ip': '140.238.249.30',\n",
       "   'otc': False,\n",
       "   'source': 'api',\n",
       "   'user_updated_at': '2025-03-02T08:12:17.187Z'},\n",
       "  'product_symbol': 'C-BTC-88400-020325',\n",
       "  'stop_order_type': None,\n",
       "  'mmp': 'disabled',\n",
       "  'unfilled_size': 2},\n",
       " 'success': True}"
      ]
     },
     "execution_count": 25,
     "metadata": {},
     "output_type": "execute_result"
    }
   ],
   "source": [
    "response.json()"
   ]
  },
  {
   "cell_type": "code",
   "execution_count": null,
   "metadata": {},
   "outputs": [],
   "source": [
    "# get order by id\n",
    "order_id = getOrderParam['id']\n",
    "orderInfo = delta_client.request(\"GET\", f\"/v2/orders/{order_id}\",auth=True)\n",
    "orderInfo.json()"
   ]
  },
  {
   "cell_type": "code",
   "execution_count": null,
   "metadata": {},
   "outputs": [],
   "source": [
    "# Modify order\n",
    "order = {\n",
    "            'id': getOrderParam['id'],\n",
    "            'product_id': getOrderParam['product_id'],\n",
    "            'size': getOrderParam['size'],\n",
    "            'limit_price': str(0.4)\n",
    "        }\n",
    "response = delta_client.request(\"PUT\", \"/v2/orders\", order,auth=True)\n",
    "response.json()"
   ]
  },
  {
   "cell_type": "markdown",
   "metadata": {},
   "source": [
    "## Cancel Order"
   ]
  },
  {
   "cell_type": "code",
   "execution_count": 27,
   "metadata": {},
   "outputs": [
    {
     "data": {
      "text/plain": [
       "{'product_id': 64081,\n",
       " 'limit_price': '0.2',\n",
       " 'stop_trigger_method': None,\n",
       " 'cancellation_reason': 'cancelled_by_user',\n",
       " 'bracket_stop_loss_price': None,\n",
       " 'bracket_take_profit_price': None,\n",
       " 'updated_at': '2025-03-02T08:12:17.187902Z',\n",
       " 'side': 'buy',\n",
       " 'state': 'cancelled',\n",
       " 'id': 316545795,\n",
       " 'average_fill_price': None,\n",
       " 'reduce_only': False,\n",
       " 'paid_commission': '0',\n",
       " 'close_on_trigger': 'false',\n",
       " 'stop_price': None,\n",
       " 'order_type': 'limit_order',\n",
       " 'trail_amount': None,\n",
       " 'created_at': '2025-03-02T08:06:59.050504Z',\n",
       " 'time_in_force': 'gtc',\n",
       " 'client_order_id': 'DFT',\n",
       " 'user_id': 56057088,\n",
       " 'bracket_order': None,\n",
       " 'bracket_take_profit_limit_price': None,\n",
       " 'bracket_stop_loss_limit_price': None,\n",
       " 'commission': '0',\n",
       " 'quote_size': None,\n",
       " 'size': 2,\n",
       " 'bracket_trail_amount': None,\n",
       " 'meta_data': {'ip': '140.238.249.30',\n",
       "  'otc': False,\n",
       "  'source': 'api',\n",
       "  'user_updated_at': '2025-03-02T08:12:17.187Z'},\n",
       " 'product_symbol': 'C-BTC-88400-020325',\n",
       " 'stop_order_type': None,\n",
       " 'mmp': 'disabled',\n",
       " 'unfilled_size': 2}"
      ]
     },
     "execution_count": 27,
     "metadata": {},
     "output_type": "execute_result"
    }
   ],
   "source": [
    "id =  getOrderParam['id']\n",
    "product_id = getOrderParam['product_id']\n",
    "delta_client.cancel_order(product_id,id)"
   ]
  }
 ],
 "metadata": {
  "kernelspec": {
   "display_name": "Python 3",
   "language": "python",
   "name": "python3"
  },
  "language_info": {
   "codemirror_mode": {
    "name": "ipython",
    "version": 3
   },
   "file_extension": ".py",
   "mimetype": "text/x-python",
   "name": "python",
   "nbconvert_exporter": "python",
   "pygments_lexer": "ipython3",
   "version": "3.8.10"
  }
 },
 "nbformat": 4,
 "nbformat_minor": 2
}
