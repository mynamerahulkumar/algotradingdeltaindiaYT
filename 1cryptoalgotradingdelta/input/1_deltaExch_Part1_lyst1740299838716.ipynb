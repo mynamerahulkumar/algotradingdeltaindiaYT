{
 "cells": [
  {
   "cell_type": "code",
   "execution_count": null,
   "metadata": {},
   "outputs": [],
   "source": [
    "pip install delta-rest-client"
   ]
  },
  {
   "cell_type": "markdown",
   "metadata": {},
   "source": []
  },
  {
   "cell_type": "markdown",
   "metadata": {},
   "source": [
    "# Symbol Management / Ticker /Filter Options Strike"
   ]
  },
  {
   "cell_type": "code",
   "execution_count": null,
   "metadata": {},
   "outputs": [],
   "source": [
    "apikey = '0Kp22RxWZYsKmV0Rm6RVz4xdSBP1K6'\n",
    "apiSecret = 'Ii61nGVhAODut5kcI0wRlelTaUV0EXfingCibfPQYnjZfkdpxCF7a4Q3WXu2'"
   ]
  },
  {
   "cell_type": "code",
   "execution_count": null,
   "metadata": {},
   "outputs": [],
   "source": [
    "from delta_rest_client import DeltaRestClient\n",
    "import pandas as pd\n",
    "from datetime import datetime , timedelta\n",
    "\n",
    "delta_client = DeltaRestClient(\n",
    "  base_url='https://api.india.delta.exchange',\n",
    "  api_key=apikey,\n",
    "  api_secret=apiSecret\n",
    ")\n",
    "delta_client"
   ]
  },
  {
   "cell_type": "code",
   "execution_count": null,
   "metadata": {},
   "outputs": [],
   "source": []
  },
  {
   "cell_type": "markdown",
   "metadata": {},
   "source": [
    "## Get Master List"
   ]
  },
  {
   "cell_type": "code",
   "execution_count": null,
   "metadata": {},
   "outputs": [],
   "source": [
    "# Get symbol list\n",
    "res = delta_client.get_product('')\n",
    "symdf = pd.DataFrame(res)\n",
    "symdf"
   ]
  },
  {
   "cell_type": "code",
   "execution_count": null,
   "metadata": {},
   "outputs": [],
   "source": [
    "symdf.contract_type.unique()"
   ]
  },
  {
   "cell_type": "code",
   "execution_count": null,
   "metadata": {},
   "outputs": [],
   "source": [
    "symdf.iloc[0]"
   ]
  },
  {
   "cell_type": "code",
   "execution_count": null,
   "metadata": {},
   "outputs": [],
   "source": [
    "symdf['settlement_time'] =pd.to_datetime(symdf['settlement_time'], utc=True)\n",
    "symdf['expiry'] = symdf['settlement_time'].dt.date\n",
    "symdf"
   ]
  },
  {
   "cell_type": "code",
   "execution_count": null,
   "metadata": {},
   "outputs": [],
   "source": [
    "expiryDate= datetime.now() +  timedelta(days=1)\n",
    "btcdf = symdf[(symdf.expiry ==expiryDate.date() )& (symdf.contract_unit_currency == 'BTC') ]\n",
    "btcdf"
   ]
  },
  {
   "cell_type": "code",
   "execution_count": null,
   "metadata": {},
   "outputs": [],
   "source": [
    "btcdf[btcdf.contract_type == 'call_options']"
   ]
  },
  {
   "cell_type": "markdown",
   "metadata": {},
   "source": [
    "## Get product by ID"
   ]
  },
  {
   "cell_type": "code",
   "execution_count": null,
   "metadata": {},
   "outputs": [],
   "source": [
    "delta_client.get_product('63146')"
   ]
  },
  {
   "cell_type": "code",
   "execution_count": null,
   "metadata": {},
   "outputs": [],
   "source": [
    "delta_client.get_product('C-ETH-2860-250225')"
   ]
  },
  {
   "cell_type": "markdown",
   "metadata": {},
   "source": [
    "## Get Ticker"
   ]
  },
  {
   "cell_type": "code",
   "execution_count": null,
   "metadata": {},
   "outputs": [],
   "source": [
    "# Get Ticker\n",
    "delta_client.get_ticker('BTCUSD')"
   ]
  },
  {
   "cell_type": "code",
   "execution_count": null,
   "metadata": {},
   "outputs": [],
   "source": [
    "delta_client.get_ticker('C-BTC-91600-240225')"
   ]
  },
  {
   "cell_type": "code",
   "execution_count": null,
   "metadata": {},
   "outputs": [],
   "source": [
    "tickRes = delta_client.get_ticker('')\n",
    "tickDf = pd.DataFrame(tickRes)\n",
    "tickDf"
   ]
  },
  {
   "cell_type": "code",
   "execution_count": null,
   "metadata": {},
   "outputs": [],
   "source": [
    "tickRes = delta_client.get_ticker('?contract_types=put_options')\n",
    "tickDf = pd.DataFrame(tickRes)\n",
    "tickDf"
   ]
  },
  {
   "cell_type": "code",
   "execution_count": null,
   "metadata": {},
   "outputs": [],
   "source": [
    "import requests\n",
    "headers = {\n",
    "  'Accept': 'application/json'\n",
    "}\n",
    "\n",
    "r = requests.get('https://api.india.delta.exchange/v2/indices', params={\n",
    "\n",
    "}, headers = headers)\n",
    "\n",
    "r.json()"
   ]
  },
  {
   "cell_type": "markdown",
   "metadata": {},
   "source": [
    "## Filter ATM Strike"
   ]
  },
  {
   "cell_type": "code",
   "execution_count": null,
   "metadata": {},
   "outputs": [],
   "source": [
    "tickRes = delta_client.get_ticker('BTCUSD')\n",
    "tickRes\n",
    "\n",
    "tickRes['spot_price']\n",
    "\n",
    "spotPrice = float(tickRes['spot_price'])\n",
    "spotPrice\n",
    "\n",
    "atmStrike = round(float(spotPrice)/200)*200\n",
    "\n",
    "atmStrike\n",
    "\n",
    "\n",
    "\n",
    "expDate = datetime.now() + timedelta(days= 1)\n",
    "expDate\n",
    "\n",
    "\n",
    "\n",
    "expStr = expDate.strftime(\"%d%m%y\")\n",
    "expStr\n",
    "\n",
    "\n",
    "callSym  = f'C-BTC-{atmStrike}-{expStr}'\n",
    "callSym\n",
    "\n",
    "\n",
    "putSym  = f'P-BTC-{atmStrike}-{expStr}'\n",
    "putSym\n",
    "\n",
    "\n",
    "delta_client.get_product(putSym)\n",
    "\n",
    "\n",
    "delta_client.get_product(callSym)"
   ]
  }
 ],
 "metadata": {
  "kernelspec": {
   "display_name": "base",
   "language": "python",
   "name": "python3"
  },
  "language_info": {
   "codemirror_mode": {
    "name": "ipython",
    "version": 3
   },
   "file_extension": ".py",
   "mimetype": "text/x-python",
   "name": "python",
   "nbconvert_exporter": "python",
   "pygments_lexer": "ipython3",
   "version": "3.12.7"
  },
  "orig_nbformat": 4
 },
 "nbformat": 4,
 "nbformat_minor": 2
}
